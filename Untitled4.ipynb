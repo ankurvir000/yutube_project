{
 "cells": [
  {
   "cell_type": "code",
   "execution_count": 1,
   "metadata": {},
   "outputs": [],
   "source": [
    "import pandas as pd\n",
    "\n",
    "# Define data\n",
    "data = {\n",
    "    'Value': [0, 1, 2],\n",
    "    'Sentiment': ['Negative', 'Neutral', 'Positive']\n",
    "}\n",
    "\n",
    "# Create DataFrame\n",
    "dr = pd.DataFrame(data)"
   ]
  },
  {
   "cell_type": "code",
   "execution_count": 2,
   "metadata": {},
   "outputs": [],
   "source": [
    "class_names=dr.Sentiment.tolist()"
   ]
  },
  {
   "cell_type": "code",
   "execution_count": 3,
   "metadata": {},
   "outputs": [
    {
     "name": "stdout",
     "output_type": "stream",
     "text": [
      "WARNING:tensorflow:From e:\\youtube\\venv\\Lib\\site-packages\\keras\\src\\losses.py:2976: The name tf.losses.sparse_softmax_cross_entropy is deprecated. Please use tf.compat.v1.losses.sparse_softmax_cross_entropy instead.\n",
      "\n",
      "WARNING:tensorflow:From e:\\youtube\\venv\\Lib\\site-packages\\keras\\src\\saving\\legacy\\saved_model\\load.py:107: The name tf.gfile.Exists is deprecated. Please use tf.io.gfile.exists instead.\n",
      "\n",
      "WARNING:tensorflow:From e:\\youtube\\venv\\Lib\\site-packages\\keras\\src\\saving\\legacy\\saved_model\\load.py:1113: The name tf.executing_eagerly_outside_functions is deprecated. Please use tf.compat.v1.executing_eagerly_outside_functions instead.\n",
      "\n"
     ]
    }
   ],
   "source": [
    "from tensorflow.keras.models import load_model\n",
    "\n",
    "checkpoint_path = \"best_model_USE\"\n",
    "# Load the entire model\n",
    "model_1 = load_model(checkpoint_path)"
   ]
  },
  {
   "cell_type": "code",
   "execution_count": 6,
   "metadata": {},
   "outputs": [],
   "source": [
    "import numpy as np\n",
    "\n",
    "def random_predictions_single(model, input_text, class_names=None):\n",
    "    # Making predictions on the single input\n",
    "    input_text = np.array([input_text])  # Convert to a numpy array for consistency\n",
    "    y_pred_probs = model.predict(input_text)\n",
    "\n",
    "    num_classes = y_pred_probs.shape[1] if len(y_pred_probs.shape) > 1 else 2\n",
    "    is_binary_classification = num_classes == 2\n",
    "\n",
    "    if is_binary_classification:\n",
    "        y_pred = np.squeeze(np.round(y_pred_probs).astype(int))\n",
    "    else:\n",
    "        y_pred = np.argmax(y_pred_probs, axis=1)\n",
    "\n",
    "    # If class names are provided, use them for printing\n",
    "    if class_names is not None:\n",
    "        predicted_label_name = class_names[y_pred[0]]\n",
    "    else:\n",
    "        predicted_label_name = y_pred[0]\n",
    "\n",
    "    # Print the predicted label\n",
    "    print(f\"Text: {input_text[0]}\")\n",
    "    print(f\"Predicted: {predicted_label_name}\")"
   ]
  },
  {
   "cell_type": "code",
   "execution_count": 7,
   "metadata": {},
   "outputs": [
    {
     "name": "stdout",
     "output_type": "stream",
     "text": [
      "1/1 [==============================] - 0s 359ms/step\n",
      "Text: I'm very sad today\n",
      "Predicted: Negative\n"
     ]
    }
   ],
   "source": [
    "random_predictions_single(model_1, \"I'm very sad today\", class_names=class_names)"
   ]
  }
 ],
 "metadata": {
  "kernelspec": {
   "display_name": "venv",
   "language": "python",
   "name": "python3"
  },
  "language_info": {
   "codemirror_mode": {
    "name": "ipython",
    "version": 3
   },
   "file_extension": ".py",
   "mimetype": "text/x-python",
   "name": "python",
   "nbconvert_exporter": "python",
   "pygments_lexer": "ipython3",
   "version": "3.11.5"
  }
 },
 "nbformat": 4,
 "nbformat_minor": 2
}

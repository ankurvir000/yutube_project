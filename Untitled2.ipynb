{
 "cells": [
  {
   "cell_type": "code",
   "execution_count": 1,
   "metadata": {},
   "outputs": [
    {
     "data": {
      "text/html": [
       "<div>\n",
       "<style scoped>\n",
       "    .dataframe tbody tr th:only-of-type {\n",
       "        vertical-align: middle;\n",
       "    }\n",
       "\n",
       "    .dataframe tbody tr th {\n",
       "        vertical-align: top;\n",
       "    }\n",
       "\n",
       "    .dataframe thead th {\n",
       "        text-align: right;\n",
       "    }\n",
       "</style>\n",
       "<table border=\"1\" class=\"dataframe\">\n",
       "  <thead>\n",
       "    <tr style=\"text-align: right;\">\n",
       "      <th></th>\n",
       "      <th>Id</th>\n",
       "      <th>Video ID</th>\n",
       "      <th>Comment</th>\n",
       "      <th>Likes</th>\n",
       "      <th>Sentiment</th>\n",
       "    </tr>\n",
       "  </thead>\n",
       "  <tbody>\n",
       "    <tr>\n",
       "      <th>0</th>\n",
       "      <td>0</td>\n",
       "      <td>wAZZ-UWGVHI</td>\n",
       "      <td>Let's not forget that Apple Pay in 2014 requir...</td>\n",
       "      <td>95.0</td>\n",
       "      <td>1.0</td>\n",
       "    </tr>\n",
       "    <tr>\n",
       "      <th>1</th>\n",
       "      <td>1</td>\n",
       "      <td>wAZZ-UWGVHI</td>\n",
       "      <td>Here in NZ 50% of retailers don’t even have co...</td>\n",
       "      <td>19.0</td>\n",
       "      <td>0.0</td>\n",
       "    </tr>\n",
       "    <tr>\n",
       "      <th>2</th>\n",
       "      <td>2</td>\n",
       "      <td>wAZZ-UWGVHI</td>\n",
       "      <td>I will forever acknowledge this channel with t...</td>\n",
       "      <td>161.0</td>\n",
       "      <td>2.0</td>\n",
       "    </tr>\n",
       "    <tr>\n",
       "      <th>3</th>\n",
       "      <td>3</td>\n",
       "      <td>wAZZ-UWGVHI</td>\n",
       "      <td>Whenever I go to a place that doesn’t take App...</td>\n",
       "      <td>8.0</td>\n",
       "      <td>0.0</td>\n",
       "    </tr>\n",
       "    <tr>\n",
       "      <th>4</th>\n",
       "      <td>4</td>\n",
       "      <td>wAZZ-UWGVHI</td>\n",
       "      <td>Apple Pay is so convenient, secure, and easy t...</td>\n",
       "      <td>34.0</td>\n",
       "      <td>2.0</td>\n",
       "    </tr>\n",
       "    <tr>\n",
       "      <th>5</th>\n",
       "      <td>5</td>\n",
       "      <td>wAZZ-UWGVHI</td>\n",
       "      <td>We’ve been hounding my bank to adopt Apple pay...</td>\n",
       "      <td>8.0</td>\n",
       "      <td>1.0</td>\n",
       "    </tr>\n",
       "    <tr>\n",
       "      <th>6</th>\n",
       "      <td>6</td>\n",
       "      <td>wAZZ-UWGVHI</td>\n",
       "      <td>We only got Apple Pay in South Africa in 2020/...</td>\n",
       "      <td>29.0</td>\n",
       "      <td>2.0</td>\n",
       "    </tr>\n",
       "    <tr>\n",
       "      <th>7</th>\n",
       "      <td>7</td>\n",
       "      <td>wAZZ-UWGVHI</td>\n",
       "      <td>For now, I need both Apple Pay and the physica...</td>\n",
       "      <td>7.0</td>\n",
       "      <td>1.0</td>\n",
       "    </tr>\n",
       "    <tr>\n",
       "      <th>8</th>\n",
       "      <td>8</td>\n",
       "      <td>wAZZ-UWGVHI</td>\n",
       "      <td>In the United States, we have an abundance of ...</td>\n",
       "      <td>2.0</td>\n",
       "      <td>2.0</td>\n",
       "    </tr>\n",
       "    <tr>\n",
       "      <th>9</th>\n",
       "      <td>9</td>\n",
       "      <td>wAZZ-UWGVHI</td>\n",
       "      <td>In Cambodia, we have a universal QR code syste...</td>\n",
       "      <td>28.0</td>\n",
       "      <td>1.0</td>\n",
       "    </tr>\n",
       "    <tr>\n",
       "      <th>10</th>\n",
       "      <td>10</td>\n",
       "      <td>b3x28s61q3c</td>\n",
       "      <td>Wow, you really went to town on the PSU test r...</td>\n",
       "      <td>1344.0</td>\n",
       "      <td>2.0</td>\n",
       "    </tr>\n",
       "    <tr>\n",
       "      <th>11</th>\n",
       "      <td>11</td>\n",
       "      <td>b3x28s61q3c</td>\n",
       "      <td>The lab is the most exciting thing in IT I've ...</td>\n",
       "      <td>198.0</td>\n",
       "      <td>2.0</td>\n",
       "    </tr>\n",
       "    <tr>\n",
       "      <th>12</th>\n",
       "      <td>12</td>\n",
       "      <td>b3x28s61q3c</td>\n",
       "      <td>Linus, I'm an engineer and love the LMG conten...</td>\n",
       "      <td>365.0</td>\n",
       "      <td>2.0</td>\n",
       "    </tr>\n",
       "    <tr>\n",
       "      <th>13</th>\n",
       "      <td>13</td>\n",
       "      <td>b3x28s61q3c</td>\n",
       "      <td>There used to be a time where Linus was the sm...</td>\n",
       "      <td>211.0</td>\n",
       "      <td>2.0</td>\n",
       "    </tr>\n",
       "    <tr>\n",
       "      <th>14</th>\n",
       "      <td>14</td>\n",
       "      <td>b3x28s61q3c</td>\n",
       "      <td>Holy crap. I was looking at Chroma systems bac...</td>\n",
       "      <td>821.0</td>\n",
       "      <td>0.0</td>\n",
       "    </tr>\n",
       "    <tr>\n",
       "      <th>15</th>\n",
       "      <td>15</td>\n",
       "      <td>b3x28s61q3c</td>\n",
       "      <td>I love the direction this channel is going. Mo...</td>\n",
       "      <td>150.0</td>\n",
       "      <td>2.0</td>\n",
       "    </tr>\n",
       "    <tr>\n",
       "      <th>16</th>\n",
       "      <td>16</td>\n",
       "      <td>b3x28s61q3c</td>\n",
       "      <td>I am more excited for the LTT Lab than I have ...</td>\n",
       "      <td>49.0</td>\n",
       "      <td>2.0</td>\n",
       "    </tr>\n",
       "    <tr>\n",
       "      <th>17</th>\n",
       "      <td>17</td>\n",
       "      <td>b3x28s61q3c</td>\n",
       "      <td>I adore the working relationship Linus has wit...</td>\n",
       "      <td>19.0</td>\n",
       "      <td>2.0</td>\n",
       "    </tr>\n",
       "    <tr>\n",
       "      <th>18</th>\n",
       "      <td>18</td>\n",
       "      <td>b3x28s61q3c</td>\n",
       "      <td>LMGs growth is honestly something to truly asp...</td>\n",
       "      <td>17.0</td>\n",
       "      <td>2.0</td>\n",
       "    </tr>\n",
       "    <tr>\n",
       "      <th>19</th>\n",
       "      <td>19</td>\n",
       "      <td>b3x28s61q3c</td>\n",
       "      <td>I love all the people LTT has added for labs. ...</td>\n",
       "      <td>2808.0</td>\n",
       "      <td>2.0</td>\n",
       "    </tr>\n",
       "  </tbody>\n",
       "</table>\n",
       "</div>"
      ],
      "text/plain": [
       "    Id     Video ID                                            Comment  \\\n",
       "0    0  wAZZ-UWGVHI  Let's not forget that Apple Pay in 2014 requir...   \n",
       "1    1  wAZZ-UWGVHI  Here in NZ 50% of retailers don’t even have co...   \n",
       "2    2  wAZZ-UWGVHI  I will forever acknowledge this channel with t...   \n",
       "3    3  wAZZ-UWGVHI  Whenever I go to a place that doesn’t take App...   \n",
       "4    4  wAZZ-UWGVHI  Apple Pay is so convenient, secure, and easy t...   \n",
       "5    5  wAZZ-UWGVHI  We’ve been hounding my bank to adopt Apple pay...   \n",
       "6    6  wAZZ-UWGVHI  We only got Apple Pay in South Africa in 2020/...   \n",
       "7    7  wAZZ-UWGVHI  For now, I need both Apple Pay and the physica...   \n",
       "8    8  wAZZ-UWGVHI  In the United States, we have an abundance of ...   \n",
       "9    9  wAZZ-UWGVHI  In Cambodia, we have a universal QR code syste...   \n",
       "10  10  b3x28s61q3c  Wow, you really went to town on the PSU test r...   \n",
       "11  11  b3x28s61q3c  The lab is the most exciting thing in IT I've ...   \n",
       "12  12  b3x28s61q3c  Linus, I'm an engineer and love the LMG conten...   \n",
       "13  13  b3x28s61q3c  There used to be a time where Linus was the sm...   \n",
       "14  14  b3x28s61q3c  Holy crap. I was looking at Chroma systems bac...   \n",
       "15  15  b3x28s61q3c  I love the direction this channel is going. Mo...   \n",
       "16  16  b3x28s61q3c  I am more excited for the LTT Lab than I have ...   \n",
       "17  17  b3x28s61q3c  I adore the working relationship Linus has wit...   \n",
       "18  18  b3x28s61q3c  LMGs growth is honestly something to truly asp...   \n",
       "19  19  b3x28s61q3c  I love all the people LTT has added for labs. ...   \n",
       "\n",
       "     Likes  Sentiment  \n",
       "0     95.0        1.0  \n",
       "1     19.0        0.0  \n",
       "2    161.0        2.0  \n",
       "3      8.0        0.0  \n",
       "4     34.0        2.0  \n",
       "5      8.0        1.0  \n",
       "6     29.0        2.0  \n",
       "7      7.0        1.0  \n",
       "8      2.0        2.0  \n",
       "9     28.0        1.0  \n",
       "10  1344.0        2.0  \n",
       "11   198.0        2.0  \n",
       "12   365.0        2.0  \n",
       "13   211.0        2.0  \n",
       "14   821.0        0.0  \n",
       "15   150.0        2.0  \n",
       "16    49.0        2.0  \n",
       "17    19.0        2.0  \n",
       "18    17.0        2.0  \n",
       "19  2808.0        2.0  "
      ]
     },
     "execution_count": 1,
     "metadata": {},
     "output_type": "execute_result"
    }
   ],
   "source": [
    "import pandas as pd\n",
    "\n",
    "# Load CSV file into a DataFrame\n",
    "df = pd.read_csv('dataset/comments.csv')\n",
    "\n",
    "# Display the DataFrame\n",
    "df.head(20)"
   ]
  },
  {
   "cell_type": "code",
   "execution_count": 2,
   "metadata": {},
   "outputs": [
    {
     "data": {
      "text/html": [
       "<div>\n",
       "<style scoped>\n",
       "    .dataframe tbody tr th:only-of-type {\n",
       "        vertical-align: middle;\n",
       "    }\n",
       "\n",
       "    .dataframe tbody tr th {\n",
       "        vertical-align: top;\n",
       "    }\n",
       "\n",
       "    .dataframe thead th {\n",
       "        text-align: right;\n",
       "    }\n",
       "</style>\n",
       "<table border=\"1\" class=\"dataframe\">\n",
       "  <thead>\n",
       "    <tr style=\"text-align: right;\">\n",
       "      <th></th>\n",
       "      <th>Value</th>\n",
       "      <th>Sentiment</th>\n",
       "    </tr>\n",
       "  </thead>\n",
       "  <tbody>\n",
       "    <tr>\n",
       "      <th>0</th>\n",
       "      <td>0</td>\n",
       "      <td>Negative</td>\n",
       "    </tr>\n",
       "    <tr>\n",
       "      <th>1</th>\n",
       "      <td>1</td>\n",
       "      <td>Neutral</td>\n",
       "    </tr>\n",
       "    <tr>\n",
       "      <th>2</th>\n",
       "      <td>2</td>\n",
       "      <td>Positive</td>\n",
       "    </tr>\n",
       "  </tbody>\n",
       "</table>\n",
       "</div>"
      ],
      "text/plain": [
       "   Value Sentiment\n",
       "0      0  Negative\n",
       "1      1   Neutral\n",
       "2      2  Positive"
      ]
     },
     "execution_count": 2,
     "metadata": {},
     "output_type": "execute_result"
    }
   ],
   "source": [
    "# Define data\n",
    "data = {\n",
    "    'Value': [0, 1, 2],\n",
    "    'Sentiment': ['Negative', 'Neutral', 'Positive']\n",
    "}\n",
    "\n",
    "# Create DataFrame\n",
    "dr = pd.DataFrame(data)\n",
    "\n",
    "# Print DataFrame\n",
    "dr"
   ]
  },
  {
   "cell_type": "code",
   "execution_count": 3,
   "metadata": {},
   "outputs": [
    {
     "data": {
      "text/html": [
       "<div>\n",
       "<style scoped>\n",
       "    .dataframe tbody tr th:only-of-type {\n",
       "        vertical-align: middle;\n",
       "    }\n",
       "\n",
       "    .dataframe tbody tr th {\n",
       "        vertical-align: top;\n",
       "    }\n",
       "\n",
       "    .dataframe thead th {\n",
       "        text-align: right;\n",
       "    }\n",
       "</style>\n",
       "<table border=\"1\" class=\"dataframe\">\n",
       "  <thead>\n",
       "    <tr style=\"text-align: right;\">\n",
       "      <th></th>\n",
       "      <th>Id</th>\n",
       "      <th>Video ID</th>\n",
       "      <th>Comment</th>\n",
       "      <th>Likes</th>\n",
       "      <th>Sentiment</th>\n",
       "    </tr>\n",
       "  </thead>\n",
       "  <tbody>\n",
       "    <tr>\n",
       "      <th>7270</th>\n",
       "      <td>7270</td>\n",
       "      <td>Oyo3tNlamDw</td>\n",
       "      <td>jacquees vc é fera, canta muito 👏🏾👏🏾👏🏾 um salv...</td>\n",
       "      <td>10.0</td>\n",
       "      <td>2.0</td>\n",
       "    </tr>\n",
       "    <tr>\n",
       "      <th>15907</th>\n",
       "      <td>15907</td>\n",
       "      <td>Ki2JWyOCXwo</td>\n",
       "      <td>I think for the price (I got mine used for 180...</td>\n",
       "      <td>2.0</td>\n",
       "      <td>2.0</td>\n",
       "    </tr>\n",
       "    <tr>\n",
       "      <th>4373</th>\n",
       "      <td>4373</td>\n",
       "      <td>kw1LyzdWaDo</td>\n",
       "      <td>I forgot to say! I wait about a minute or two ...</td>\n",
       "      <td>7087.0</td>\n",
       "      <td>2.0</td>\n",
       "    </tr>\n",
       "    <tr>\n",
       "      <th>14012</th>\n",
       "      <td>14012</td>\n",
       "      <td>HVT3Y3_gHGg</td>\n",
       "      <td>A summary!\\r\\n\\r\\nVideo Two: Water\\r\\n H2O us...</td>\n",
       "      <td>425.0</td>\n",
       "      <td>2.0</td>\n",
       "    </tr>\n",
       "    <tr>\n",
       "      <th>17703</th>\n",
       "      <td>17703</td>\n",
       "      <td>I9G6xJTUCHs</td>\n",
       "      <td>Second one was definitely the best, honestly w...</td>\n",
       "      <td>7.0</td>\n",
       "      <td>2.0</td>\n",
       "    </tr>\n",
       "  </tbody>\n",
       "</table>\n",
       "</div>"
      ],
      "text/plain": [
       "          Id     Video ID                                            Comment  \\\n",
       "7270    7270  Oyo3tNlamDw  jacquees vc é fera, canta muito 👏🏾👏🏾👏🏾 um salv...   \n",
       "15907  15907  Ki2JWyOCXwo  I think for the price (I got mine used for 180...   \n",
       "4373    4373  kw1LyzdWaDo  I forgot to say! I wait about a minute or two ...   \n",
       "14012  14012  HVT3Y3_gHGg  A summary!\\r\\n\\r\\nVideo Two: Water\\r\\n H2O us...   \n",
       "17703  17703  I9G6xJTUCHs  Second one was definitely the best, honestly w...   \n",
       "\n",
       "        Likes  Sentiment  \n",
       "7270     10.0        2.0  \n",
       "15907     2.0        2.0  \n",
       "4373   7087.0        2.0  \n",
       "14012   425.0        2.0  \n",
       "17703     7.0        2.0  "
      ]
     },
     "execution_count": 3,
     "metadata": {},
     "output_type": "execute_result"
    }
   ],
   "source": [
    "df = df.sample(frac=1, random_state=42) \n",
    "df.head()"
   ]
  },
  {
   "cell_type": "code",
   "execution_count": 4,
   "metadata": {},
   "outputs": [
    {
     "name": "stdout",
     "output_type": "stream",
     "text": [
      "<class 'pandas.core.frame.DataFrame'>\n",
      "Index: 18409 entries, 7270 to 15795\n",
      "Data columns (total 5 columns):\n",
      " #   Column     Non-Null Count  Dtype  \n",
      "---  ------     --------------  -----  \n",
      " 0   Id         18409 non-null  int64  \n",
      " 1   Video ID   18409 non-null  object \n",
      " 2   Comment    18408 non-null  object \n",
      " 3   Likes      18409 non-null  float64\n",
      " 4   Sentiment  18409 non-null  float64\n",
      "dtypes: float64(2), int64(1), object(2)\n",
      "memory usage: 862.9+ KB\n"
     ]
    }
   ],
   "source": [
    "df.info()"
   ]
  },
  {
   "cell_type": "code",
   "execution_count": 5,
   "metadata": {},
   "outputs": [
    {
     "data": {
      "image/png": "[encoded data removed]",
      "text/plain": [
       "<Figure size 600x400 with 1 Axes>"
      ]
     },
     "metadata": {},
     "output_type": "display_data"
    },
    {
     "data": {
      "image/png": "[encoded data removed]",
      "text/plain": [
       "<Figure size 600x400 with 1 Axes>"
      ]
     },
     "metadata": {},
     "output_type": "display_data"
    }
   ],
   "source": [
    "import matplotlib.pyplot as plt\n",
    "\n",
    "# Calculate the value counts\n",
    "category_counts = df['Sentiment'].value_counts()\n",
    "\n",
    "# Bar chart\n",
    "plt.figure(figsize=(6, 4))\n",
    "category_counts.plot(kind='bar')\n",
    "plt.xlabel('Label')\n",
    "plt.ylabel('Counts')\n",
    "plt.title('Bar Chart of Sarcastic Counts')\n",
    "plt.show()\n",
    "\n",
    "# Pie chart\n",
    "plt.figure(figsize=(6, 4))\n",
    "category_counts.plot(kind='pie', autopct='%1.1f%%')\n",
    "plt.axis('equal')  \n",
    "plt.title('Pie Chart of Sentiment Distribution')\n",
    "\n",
    "# Add legend\n",
    "plt.legend()\n",
    "\n",
    "plt.show()"
   ]
  },
  {
   "cell_type": "code",
   "execution_count": 6,
   "metadata": {},
   "outputs": [
    {
     "name": "stdout",
     "output_type": "stream",
     "text": [
      "There are 18409 data in this dataset\n",
      "Number of Duplicates: 0\n",
      "Number of Missing Values by column:\n",
      " Id           0\n",
      "Video ID     0\n",
      "Comment      1\n",
      "Likes        0\n",
      "Sentiment    0\n",
      "dtype: int64\n",
      "Number of Missing Values: 1\n"
     ]
    }
   ],
   "source": [
    "print('There are', df.shape[0], 'data in this dataset')\n",
    "\n",
    "print('Number of Duplicates:', len(df[df.duplicated()]))\n",
    "\n",
    "missing_values = df.isnull().sum()\n",
    "print('Number of Missing Values by column:\\n',missing_values)\n",
    "\n",
    "print('Number of Missing Values:', df.isnull().sum().sum())"
   ]
  },
  {
   "cell_type": "code",
   "execution_count": 7,
   "metadata": {},
   "outputs": [
    {
     "name": "stdout",
     "output_type": "stream",
     "text": [
      "Number of Missing Values by column:\n",
      " Id           0\n",
      "Video ID     0\n",
      "Comment      1\n",
      "Likes        0\n",
      "Sentiment    0\n",
      "dtype: int64\n"
     ]
    }
   ],
   "source": [
    "import numpy as np \n",
    "\n",
    "df.replace(\"\", np.nan, inplace=True)\n",
    "missing_values = df.isnull().sum()\n",
    "print('Number of Missing Values by column:\\n',missing_values)"
   ]
  },
  {
   "cell_type": "code",
   "execution_count": 8,
   "metadata": {},
   "outputs": [
    {
     "data": {
      "text/html": [
       "<div>\n",
       "<style scoped>\n",
       "    .dataframe tbody tr th:only-of-type {\n",
       "        vertical-align: middle;\n",
       "    }\n",
       "\n",
       "    .dataframe tbody tr th {\n",
       "        vertical-align: top;\n",
       "    }\n",
       "\n",
       "    .dataframe thead th {\n",
       "        text-align: right;\n",
       "    }\n",
       "</style>\n",
       "<table border=\"1\" class=\"dataframe\">\n",
       "  <thead>\n",
       "    <tr style=\"text-align: right;\">\n",
       "      <th></th>\n",
       "      <th>Sentiment</th>\n",
       "      <th>Comment</th>\n",
       "    </tr>\n",
       "  </thead>\n",
       "  <tbody>\n",
       "    <tr>\n",
       "      <th>0</th>\n",
       "      <td>0.0</td>\n",
       "      <td>I cannot imagine any television networks making these sort of programs these days. It is rather depressing, because 1980's is rather recent for some of us. At that time we were worried about dumbi...</td>\n",
       "    </tr>\n",
       "    <tr>\n",
       "      <th>1</th>\n",
       "      <td>0.0</td>\n",
       "      <td>If you don't like Hall and Oates then you probably don't like music.</td>\n",
       "    </tr>\n",
       "    <tr>\n",
       "      <th>2</th>\n",
       "      <td>0.0</td>\n",
       "      <td>It's worth noting that Law's plan was to destroy the SMILE factory to get Kaido mad at Doflamingo so Doflamingo and Kaido would end up fighting each other. Taking down Doflamingo themselves wasn't...</td>\n",
       "    </tr>\n",
       "    <tr>\n",
       "      <th>3</th>\n",
       "      <td>1.0</td>\n",
       "      <td>아미누나 100만 구독자 다시 한번 축하드려요 ! 앞으로도 맛있는 먹방 기대하겠습니다 ~~</td>\n",
       "    </tr>\n",
       "    <tr>\n",
       "      <th>4</th>\n",
       "      <td>1.0</td>\n",
       "      <td>@Tshepiso thanks so much for sharing, I am also a qualified Life coach but I am not practicing. I am a software engineer and that takes away a lot from my training because all I do is communicate ...</td>\n",
       "    </tr>\n",
       "    <tr>\n",
       "      <th>5</th>\n",
       "      <td>1.0</td>\n",
       "      <td>Kind of AI?</td>\n",
       "    </tr>\n",
       "    <tr>\n",
       "      <th>6</th>\n",
       "      <td>2.0</td>\n",
       "      <td>One day... one day I'd love to watch one of these pokemon presents and have a new shadow pokemon game be revealed.</td>\n",
       "    </tr>\n",
       "    <tr>\n",
       "      <th>7</th>\n",
       "      <td>2.0</td>\n",
       "      <td>At first, I thought this was going to be a bad retelling of Danis history video but instead it talked about things after that and in-depth telling of crab game and muck that was pretty entertainin...</td>\n",
       "    </tr>\n",
       "    <tr>\n",
       "      <th>8</th>\n",
       "      <td>2.0</td>\n",
       "      <td>That first person has unbelievable control. Unreal. Sustaining that last note for that long without a single ounce of wavering was incredible</td>\n",
       "    </tr>\n",
       "  </tbody>\n",
       "</table>\n",
       "</div>"
      ],
      "text/plain": [
       "   Sentiment  \\\n",
       "0        0.0   \n",
       "1        0.0   \n",
       "2        0.0   \n",
       "3        1.0   \n",
       "4        1.0   \n",
       "5        1.0   \n",
       "6        2.0   \n",
       "7        2.0   \n",
       "8        2.0   \n",
       "\n",
       "                                                                                                                                                                                                   Comment  \n",
       "0  I cannot imagine any television networks making these sort of programs these days. It is rather depressing, because 1980's is rather recent for some of us. At that time we were worried about dumbi...  \n",
       "1                                                                                                                                     If you don't like Hall and Oates then you probably don't like music.  \n",
       "2  It's worth noting that Law's plan was to destroy the SMILE factory to get Kaido mad at Doflamingo so Doflamingo and Kaido would end up fighting each other. Taking down Doflamingo themselves wasn't...  \n",
       "3                                                                                                                                                       아미누나 100만 구독자 다시 한번 축하드려요 ! 앞으로도 맛있는 먹방 기대하겠습니다 ~~  \n",
       "4  @Tshepiso thanks so much for sharing, I am also a qualified Life coach but I am not practicing. I am a software engineer and that takes away a lot from my training because all I do is communicate ...  \n",
       "5                                                                                                                                                                                              Kind of AI?  \n",
       "6                                                                                       One day... one day I'd love to watch one of these pokemon presents and have a new shadow pokemon game be revealed.  \n",
       "7  At first, I thought this was going to be a bad retelling of Danis history video but instead it talked about things after that and in-depth telling of crab game and muck that was pretty entertainin...  \n",
       "8                                                            That first person has unbelievable control. Unreal. Sustaining that last note for that long without a single ounce of wavering was incredible  "
      ]
     },
     "execution_count": 8,
     "metadata": {},
     "output_type": "execute_result"
    }
   ],
   "source": [
    "def random_sample_reviews(df, num_samples):\n",
    "    samples = df.groupby('Sentiment')['Comment'].apply(lambda x: x.sample(num_samples))\n",
    "\n",
    "    samples_df = samples.reset_index().drop(columns='level_1')\n",
    "\n",
    "    return samples_df\n",
    "pd.set_option('display.max_colwidth', 200) \n",
    "samples = random_sample_reviews(df, num_samples=3)\n",
    "samples.head(20)"
   ]
  },
  {
   "cell_type": "code",
   "execution_count": 9,
   "metadata": {},
   "outputs": [
    {
     "name": "stdout",
     "output_type": "stream",
     "text": [
      "WARNING:tensorflow:From e:\\youtube\\venv\\Lib\\site-packages\\keras\\src\\losses.py:2976: The name tf.losses.sparse_softmax_cross_entropy is deprecated. Please use tf.compat.v1.losses.sparse_softmax_cross_entropy instead.\n",
      "\n"
     ]
    }
   ],
   "source": [
    "from sklearn.model_selection import train_test_split\n",
    "from sklearn import metrics\n",
    "\n",
    "import re\n",
    "import string\n",
    "import tensorflow as tf\n",
    "from tensorflow.keras.layers.experimental.preprocessing import TextVectorization\n",
    "from tensorflow import keras\n",
    "from tensorflow.keras.preprocessing import sequence\n",
    "from tensorflow.keras.models import Sequential\n",
    "from tensorflow.keras.layers import Dense, Embedding\n",
    "from tensorflow.keras.layers import SimpleRNN, LSTM\n",
    "from tensorflow.keras.preprocessing.text import Tokenizer\n",
    "from tensorflow.keras.preprocessing.sequence import pad_sequences"
   ]
  },
  {
   "cell_type": "code",
   "execution_count": 10,
   "metadata": {},
   "outputs": [],
   "source": [
    "import re\n",
    "\n",
    "def strip_emoji(text):\n",
    "    emoji_pattern = re.compile(\"[\"\n",
    "        u\"\\U0001F600-\\U0001F64F\"  # emoticons\n",
    "        u\"\\U0001F300-\\U0001F5FF\"  # symbols & pictographs\n",
    "        u\"\\U0001F680-\\U0001F6FF\"  # transport & map symbols\n",
    "        u\"\\U0001F1E0-\\U0001F1FF\"  # flags (iOS)\n",
    "        u\"\\U00002500-\\U00002BEF\"  # chinese characters\n",
    "        u\"\\U00002702-\\U000027B0\"\n",
    "        u\"\\U00002702-\\U000027B0\"\n",
    "        u\"\\U000024C2-\\U0001F251\"\n",
    "        u\"\\U0001f926-\\U0001f937\"\n",
    "        u\"\\U00010000-\\U0010ffff\"\n",
    "        u\"\\u2640-\\u2642\"\n",
    "        u\"\\u2600-\\u2B55\"\n",
    "        u\"\\u200d\"\n",
    "        u\"\\u23cf\"\n",
    "        u\"\\u23e9\"\n",
    "        u\"\\u231a\"\n",
    "        u\"\\ufe0f\"  # dingbats\n",
    "        u\"\\u3030\"\n",
    "                           \"]+\", flags=re.UNICODE)\n",
    "    return emoji_pattern.sub(r'', text)\n",
    "\n",
    "#Remove punctuations, links, mentions and \\r\\n new line characters\n",
    "def strip_all_entities(text):\n",
    "    text = text.replace('\\r', '').replace('\\n', ' ').replace('\\n', ' ').lower() #remove \\n and \\r and lowercase\n",
    "    text = re.sub(r\"(?:\\@|https?\\://)\\S+\", \"\", text) #remove links and mentions\n",
    "    text = re.sub(r'[^\\x00-\\x7f]',r'', text) #remove non utf8/ascii characters such as '\\x9a\\x91\\x97\\x9a\\x97'\n",
    "    banned_list= string.punctuation + 'Ã'+'±'+'ã'+'¼'+'â'+'»'+'§'\n",
    "    table = str.maketrans('', '', banned_list)\n",
    "    text = text.translate(table)\n",
    "    return text\n",
    "\n",
    "#clean hashtags at the end of the sentence, and keep those in the middle of the sentence by removing just the # symbol\n",
    "def clean_hashtags(text):\n",
    "    new_text = \" \".join(word.strip() for word in re.split('#(?!(?:hashtag)\\b)[\\w-]+(?=(?:\\s+#[\\w-]+)*\\s*$)', text)) #remove last hashtags\n",
    "    new_text2 = \" \".join(word.strip() for word in re.split('#|_', new_text)) #remove hashtags symbol from words in the middle of the sentence\n",
    "    return new_text2\n",
    "\n",
    "#Filter special characters such as & and $ present in some words\n",
    "def filter_chars(a):\n",
    "    sent = []\n",
    "    for word in a.split(' '):\n",
    "        if ('$' in word) | ('&' in word):\n",
    "            sent.append('')\n",
    "        else:\n",
    "            sent.append(word)\n",
    "    return ' '.join(sent)\n",
    "\n",
    "def remove_mult_spaces(text): # remove multiple spaces\n",
    "    return re.sub(\"\\s\\s+\" , \" \", text)"
   ]
  },
  {
   "cell_type": "code",
   "execution_count": 11,
   "metadata": {},
   "outputs": [],
   "source": [
    "df['new_text'] = (df['Comment'].astype(str)\n",
    "                     .apply(strip_emoji)\n",
    "                     .apply(strip_all_entities)\n",
    "                     .apply(clean_hashtags)\n",
    "                     .apply(filter_chars)\n",
    "                     .apply(remove_mult_spaces))"
   ]
  },
  {
   "cell_type": "code",
   "execution_count": 12,
   "metadata": {},
   "outputs": [],
   "source": [
    "df['text_len'] = df['new_text'].apply(lambda x: len(str(x).split()))"
   ]
  },
  {
   "cell_type": "code",
   "execution_count": 15,
   "metadata": {},
   "outputs": [
    {
     "data": {
      "image/png": "[encoded data removed]",
      "text/plain": [
       "<Figure size 1000x600 with 1 Axes>"
      ]
     },
     "metadata": {},
     "output_type": "display_data"
    }
   ],
   "source": [
    "text_lengths = [len(text.split()) for text in df[\"new_text\"]]\n",
    "\n",
    "# Plotting the histogram\n",
    "plt.figure(figsize=(10, 6))\n",
    "plt.hist(text_lengths, bins=20, edgecolor='black')\n",
    "plt.xlabel('Word Length')\n",
    "plt.ylabel('Frequency')\n",
    "plt.title('Distribution of text Lengths')\n",
    "\n",
    "# Adding a vertical line for the 95th quartile\n",
    "quartile_95 = np.percentile(text_lengths, 95)\n",
    "plt.axvline(x=quartile_95, color='red', linestyle='--', label='95th Quartile')\n",
    "plt.legend()\n",
    "\n",
    "plt.grid(True)\n",
    "plt.show()"
   ]
  },
  {
   "cell_type": "code",
   "execution_count": 16,
   "metadata": {},
   "outputs": [
    {
     "data": {
      "text/plain": [
       "count    18409.000000\n",
       "mean        32.682221\n",
       "std         45.229630\n",
       "min          0.000000\n",
       "25%         12.000000\n",
       "50%         21.000000\n",
       "75%         38.000000\n",
       "max       1331.000000\n",
       "Name: text_len, dtype: float64"
      ]
     },
     "execution_count": 16,
     "metadata": {},
     "output_type": "execute_result"
    }
   ],
   "source": [
    "df['text_len'].describe()"
   ]
  },
  {
   "cell_type": "code",
   "execution_count": 17,
   "metadata": {},
   "outputs": [],
   "source": [
    "data = df[df['text_len'] >= 1]"
   ]
  },
  {
   "cell_type": "code",
   "execution_count": 19,
   "metadata": {},
   "outputs": [
    {
     "data": {
      "text/html": [
       "<div>\n",
       "<style scoped>\n",
       "    .dataframe tbody tr th:only-of-type {\n",
       "        vertical-align: middle;\n",
       "    }\n",
       "\n",
       "    .dataframe tbody tr th {\n",
       "        vertical-align: top;\n",
       "    }\n",
       "\n",
       "    .dataframe thead th {\n",
       "        text-align: right;\n",
       "    }\n",
       "</style>\n",
       "<table border=\"1\" class=\"dataframe\">\n",
       "  <thead>\n",
       "    <tr style=\"text-align: right;\">\n",
       "      <th></th>\n",
       "      <th>Id</th>\n",
       "      <th>Video ID</th>\n",
       "      <th>Comment</th>\n",
       "      <th>Likes</th>\n",
       "      <th>Sentiment</th>\n",
       "      <th>new_text</th>\n",
       "      <th>text_len</th>\n",
       "    </tr>\n",
       "  </thead>\n",
       "  <tbody>\n",
       "    <tr>\n",
       "      <th>7270</th>\n",
       "      <td>7270</td>\n",
       "      <td>Oyo3tNlamDw</td>\n",
       "      <td>jacquees vc é fera, canta muito 👏🏾👏🏾👏🏾 um salve aqui da galera do Brasil 🇧🇷</td>\n",
       "      <td>10.0</td>\n",
       "      <td>2.0</td>\n",
       "      <td>jacquees vc fera canta muito um salve aqui da galera do brasil</td>\n",
       "      <td>12</td>\n",
       "    </tr>\n",
       "    <tr>\n",
       "      <th>15907</th>\n",
       "      <td>15907</td>\n",
       "      <td>Ki2JWyOCXwo</td>\n",
       "      <td>I think for the price (I got mine used for 180 euros) paired with a nice 24\" 1080p IPS monitor the Series S is very good value. As you said I have found Forza, FSX and Halo to run great. To your p...</td>\n",
       "      <td>2.0</td>\n",
       "      <td>2.0</td>\n",
       "      <td>i think for the price i got mine used for 180 euros paired with a nice 24 1080p ips monitor the series s is very good value as you said i have found forza fsx and halo to run great to your point r...</td>\n",
       "      <td>116</td>\n",
       "    </tr>\n",
       "    <tr>\n",
       "      <th>4373</th>\n",
       "      <td>4373</td>\n",
       "      <td>kw1LyzdWaDo</td>\n",
       "      <td>I forgot to say! I wait about a minute or two and then my coffee gets ❄️ ☃️</td>\n",
       "      <td>7087.0</td>\n",
       "      <td>2.0</td>\n",
       "      <td>i forgot to say i wait about a minute or two and then my coffee gets</td>\n",
       "      <td>16</td>\n",
       "    </tr>\n",
       "    <tr>\n",
       "      <th>14012</th>\n",
       "      <td>14012</td>\n",
       "      <td>HVT3Y3_gHGg</td>\n",
       "      <td>A summary!\\r\\n\\r\\nVideo Two: Water\\r\\n H2O uses a covalent bond: each hydrogen shares an electron with oxygen. It is thus a polar molecule.\\r\\n All water molecules are attracted to each other du...</td>\n",
       "      <td>425.0</td>\n",
       "      <td>2.0</td>\n",
       "      <td>a summary video two water h2o uses a covalent bond each hydrogen shares an electron with oxygen it is thus a polar molecule all water molecules are attracted to each other due to this polarity the...</td>\n",
       "      <td>182</td>\n",
       "    </tr>\n",
       "    <tr>\n",
       "      <th>17703</th>\n",
       "      <td>17703</td>\n",
       "      <td>I9G6xJTUCHs</td>\n",
       "      <td>Second one was definitely the best, honestly with a few updates to design , ui and the background this could be a top tier mobile game, the background could change to a crystal cavern at a higher ...</td>\n",
       "      <td>7.0</td>\n",
       "      <td>2.0</td>\n",
       "      <td>second one was definitely the best honestly with a few updates to design ui and the background this could be a top tier mobile game the background could change to a crystal cavern at a higher lvl ...</td>\n",
       "      <td>44</td>\n",
       "    </tr>\n",
       "  </tbody>\n",
       "</table>\n",
       "</div>"
      ],
      "text/plain": [
       "          Id     Video ID  \\\n",
       "7270    7270  Oyo3tNlamDw   \n",
       "15907  15907  Ki2JWyOCXwo   \n",
       "4373    4373  kw1LyzdWaDo   \n",
       "14012  14012  HVT3Y3_gHGg   \n",
       "17703  17703  I9G6xJTUCHs   \n",
       "\n",
       "                                                                                                                                                                                                       Comment  \\\n",
       "7270                                                                                                                               jacquees vc é fera, canta muito 👏🏾👏🏾👏🏾 um salve aqui da galera do Brasil 🇧🇷   \n",
       "15907  I think for the price (I got mine used for 180 euros) paired with a nice 24\" 1080p IPS monitor the Series S is very good value. As you said I have found Forza, FSX and Halo to run great. To your p...   \n",
       "4373                                                                                                                               I forgot to say! I wait about a minute or two and then my coffee gets ❄️ ☃️   \n",
       "14012  A summary!\\r\\n\\r\\nVideo Two: Water\\r\\n H2O uses a covalent bond: each hydrogen shares an electron with oxygen. It is thus a polar molecule.\\r\\n All water molecules are attracted to each other du...   \n",
       "17703  Second one was definitely the best, honestly with a few updates to design , ui and the background this could be a top tier mobile game, the background could change to a crystal cavern at a higher ...   \n",
       "\n",
       "        Likes  Sentiment  \\\n",
       "7270     10.0        2.0   \n",
       "15907     2.0        2.0   \n",
       "4373   7087.0        2.0   \n",
       "14012   425.0        2.0   \n",
       "17703     7.0        2.0   \n",
       "\n",
       "                                                                                                                                                                                                      new_text  \\\n",
       "7270                                                                                                                                            jacquees vc fera canta muito um salve aqui da galera do brasil   \n",
       "15907  i think for the price i got mine used for 180 euros paired with a nice 24 1080p ips monitor the series s is very good value as you said i have found forza fsx and halo to run great to your point r...   \n",
       "4373                                                                                                                                      i forgot to say i wait about a minute or two and then my coffee gets   \n",
       "14012  a summary video two water h2o uses a covalent bond each hydrogen shares an electron with oxygen it is thus a polar molecule all water molecules are attracted to each other due to this polarity the...   \n",
       "17703  second one was definitely the best honestly with a few updates to design ui and the background this could be a top tier mobile game the background could change to a crystal cavern at a higher lvl ...   \n",
       "\n",
       "       text_len  \n",
       "7270         12  \n",
       "15907       116  \n",
       "4373         16  \n",
       "14012       182  \n",
       "17703        44  "
      ]
     },
     "execution_count": 19,
     "metadata": {},
     "output_type": "execute_result"
    }
   ],
   "source": [
    "data.head()"
   ]
  },
  {
   "cell_type": "code",
   "execution_count": 20,
   "metadata": {},
   "outputs": [
    {
     "name": "stderr",
     "output_type": "stream",
     "text": [
      "C:\\Users\\lalit\\AppData\\Local\\Temp\\ipykernel_38284\\2757679122.py:4: SettingWithCopyWarning: \n",
      "A value is trying to be set on a copy of a slice from a DataFrame\n",
      "\n",
      "See the caveats in the documentation: https://pandas.pydata.org/pandas-docs/stable/user_guide/indexing.html#returning-a-view-versus-a-copy\n",
      "  data.drop(columns_to_drop, axis=1, inplace=True)\n"
     ]
    }
   ],
   "source": [
    "columns_to_drop = ['Comment', 'Likes', 'Id']\n",
    "\n",
    "# Drop the specified columns\n",
    "data.drop(columns_to_drop, axis=1, inplace=True)"
   ]
  },
  {
   "cell_type": "code",
   "execution_count": 22,
   "metadata": {},
   "outputs": [],
   "source": [
    "from imblearn.over_sampling import RandomOverSampler\n",
    "ros = RandomOverSampler()\n",
    "train_x, train_y = ros.fit_resample(np.array(data['new_text']).reshape(-1, 1), np.array(data['Sentiment']).reshape(-1, 1));\n",
    "train_os = pd.DataFrame(list(zip([x[0] for x in train_x], train_y)), columns = ['new_text', 'Sentiment']);"
   ]
  },
  {
   "cell_type": "code",
   "execution_count": 23,
   "metadata": {},
   "outputs": [
    {
     "data": {
      "text/plain": [
       "Sentiment\n",
       "2.0    11384\n",
       "1.0    11384\n",
       "0.0    11384\n",
       "Name: count, dtype: int64"
      ]
     },
     "execution_count": 23,
     "metadata": {},
     "output_type": "execute_result"
    }
   ],
   "source": [
    "train_os['Sentiment'].value_counts()"
   ]
  },
  {
   "cell_type": "code",
   "execution_count": 24,
   "metadata": {},
   "outputs": [],
   "source": [
    "X = train_os['new_text'].to_numpy()\n",
    "y = train_os['Sentiment'].to_numpy()"
   ]
  },
  {
   "cell_type": "code",
   "execution_count": 25,
   "metadata": {},
   "outputs": [],
   "source": [
    "X_train, X_valid, y_train, y_valid = train_test_split(X, y, test_size=0.2, random_state=42)"
   ]
  },
  {
   "cell_type": "code",
   "execution_count": 26,
   "metadata": {},
   "outputs": [],
   "source": [
    "y_train_le = y_train.copy()\n",
    "y_valid_le = y_valid.copy()"
   ]
  },
  {
   "cell_type": "code",
   "execution_count": 27,
   "metadata": {},
   "outputs": [
    {
     "name": "stderr",
     "output_type": "stream",
     "text": [
      "e:\\youtube\\venv\\Lib\\site-packages\\sklearn\\preprocessing\\_encoders.py:975: FutureWarning: `sparse` was renamed to `sparse_output` in version 1.2 and will be removed in 1.4. `sparse_output` is ignored unless you leave `sparse` to its default value.\n",
      "  warnings.warn(\n"
     ]
    },
    {
     "data": {
      "text/plain": [
       "(27321, 3)"
      ]
     },
     "execution_count": 27,
     "metadata": {},
     "output_type": "execute_result"
    }
   ],
   "source": [
    "# One hot encode labels\n",
    "from sklearn.preprocessing import OneHotEncoder\n",
    "one_hot_encoder = OneHotEncoder(sparse=False)\n",
    "y_train = one_hot_encoder.fit_transform(np.array(y_train).reshape(-1, 1))\n",
    "y_valid = one_hot_encoder.transform(np.array(y_valid).reshape(-1, 1))\n",
    "\n",
    "y_train.shape"
   ]
  },
  {
   "cell_type": "code",
   "execution_count": 28,
   "metadata": {},
   "outputs": [
    {
     "data": {
      "text/plain": [
       "(27321, 6831, 27321, 6831)"
      ]
     },
     "execution_count": 28,
     "metadata": {},
     "output_type": "execute_result"
    }
   ],
   "source": [
    "# Check the lengths\n",
    "len(X_train), len(X_valid), len(y_train), len(y_valid)"
   ]
  },
  {
   "cell_type": "code",
   "execution_count": 29,
   "metadata": {},
   "outputs": [
    {
     "data": {
      "text/plain": [
       "35"
      ]
     },
     "execution_count": 29,
     "metadata": {},
     "output_type": "execute_result"
    }
   ],
   "source": [
    "# Find average number of tokens (words) in training texts\n",
    "round(sum([len(i.split()) for i in X_train])/len(X_train))"
   ]
  },
  {
   "cell_type": "code",
   "execution_count": 30,
   "metadata": {},
   "outputs": [
    {
     "name": "stdout",
     "output_type": "stream",
     "text": [
      "95th Quartile of text Lengths: 104.0\n"
     ]
    }
   ],
   "source": [
    "# Calculate the length of each text in X_train\n",
    "text_lengths = [len(text.split()) for text in X_train]\n",
    "\n",
    "# Find the 95th quartile\n",
    "quartile_95 = np.percentile(text_lengths, 95)\n",
    "\n",
    "print(f\"95th Quartile of text Lengths: {quartile_95}\")"
   ]
  },
  {
   "cell_type": "code",
   "execution_count": 31,
   "metadata": {},
   "outputs": [
    {
     "data": {
      "image/png": "[encoded data removed]",
      "text/plain": [
       "<Figure size 1000x600 with 1 Axes>"
      ]
     },
     "metadata": {},
     "output_type": "display_data"
    }
   ],
   "source": [
    "# Plotting the histogram\n",
    "plt.figure(figsize=(10, 6))\n",
    "plt.hist(text_lengths, bins=20, edgecolor='black')\n",
    "plt.xlabel('Word Length')\n",
    "plt.ylabel('Frequency')\n",
    "plt.title('Distribution of text Lengths')\n",
    "\n",
    "# Adding a vertical line for the 95th quartile\n",
    "quartile_95 = np.percentile(text_lengths, 95)\n",
    "plt.axvline(x=quartile_95, color='red', linestyle='--', label='95th Quartile')\n",
    "plt.legend()\n",
    "\n",
    "plt.grid(True)\n",
    "plt.show()"
   ]
  },
  {
   "cell_type": "code",
   "execution_count": 32,
   "metadata": {},
   "outputs": [
    {
     "name": "stdout",
     "output_type": "stream",
     "text": [
      "Maximum text Length: 1331\n"
     ]
    }
   ],
   "source": [
    "max_text_length = max(text_lengths)\n",
    "print(f\"Maximum text Length: {max_text_length}\")"
   ]
  },
  {
   "cell_type": "code",
   "execution_count": 33,
   "metadata": {},
   "outputs": [
    {
     "name": "stdout",
     "output_type": "stream",
     "text": [
      "WARNING:tensorflow:From e:\\youtube\\venv\\Lib\\site-packages\\keras\\src\\backend.py:873: The name tf.get_default_graph is deprecated. Please use tf.compat.v1.get_default_graph instead.\n",
      "\n"
     ]
    }
   ],
   "source": [
    "# Setup text vectorization with custom variables\n",
    "max_vocab_length =None\n",
    "max_length = int(quartile_95)\n",
    "\n",
    "text_vectorizer = TextVectorization(max_tokens=max_vocab_length,\n",
    "                                    output_mode=\"int\",\n",
    "                                    output_sequence_length=max_length)"
   ]
  },
  {
   "cell_type": "code",
   "execution_count": 34,
   "metadata": {},
   "outputs": [
    {
     "name": "stdout",
     "output_type": "stream",
     "text": [
      "WARNING:tensorflow:From e:\\youtube\\venv\\Lib\\site-packages\\keras\\src\\utils\\tf_utils.py:492: The name tf.ragged.RaggedTensorValue is deprecated. Please use tf.compat.v1.ragged.RaggedTensorValue instead.\n",
      "\n"
     ]
    }
   ],
   "source": [
    "# Fit the text vectorizer to the training text\n",
    "text_vectorizer.adapt(X_train)"
   ]
  },
  {
   "cell_type": "code",
   "execution_count": 35,
   "metadata": {},
   "outputs": [
    {
     "name": "stdout",
     "output_type": "stream",
     "text": [
      "Number of words in vocab: 34860\n",
      "Top 5 most common words: ['', '[UNK]', 'the', 'to', 'and']\n",
      "Bottom 5 least common words: ['000946', '000904', '0008', '000428', '000307']\n"
     ]
    }
   ],
   "source": [
    "# Get the unique words in the vocabulary\n",
    "words_in_vocab = text_vectorizer.get_vocabulary()\n",
    "top_5_words = words_in_vocab[:5] \n",
    "bottom_5_words = words_in_vocab[-5:] \n",
    "print(f\"Number of words in vocab: {len(words_in_vocab)}\")\n",
    "print(f\"Top 5 most common words: {top_5_words}\")\n",
    "print(f\"Bottom 5 least common words: {bottom_5_words}\")"
   ]
  },
  {
   "cell_type": "code",
   "execution_count": 36,
   "metadata": {},
   "outputs": [
    {
     "data": {
      "text/plain": [
       "(34860, 104)"
      ]
     },
     "execution_count": 36,
     "metadata": {},
     "output_type": "execute_result"
    }
   ],
   "source": [
    "# max_vocab_length=total_number_words\n",
    "max_vocab_length=len(words_in_vocab)\n",
    "max_vocab_length, max_length"
   ]
  },
  {
   "cell_type": "code",
   "execution_count": 37,
   "metadata": {},
   "outputs": [
    {
     "data": {
      "text/plain": [
       "3"
      ]
     },
     "execution_count": 37,
     "metadata": {},
     "output_type": "execute_result"
    }
   ],
   "source": [
    "num_classes=y_train.shape[1]\n",
    "num_classes"
   ]
  },
  {
   "cell_type": "code",
   "execution_count": 38,
   "metadata": {},
   "outputs": [],
   "source": [
    "tf.random.set_seed(42)\n",
    "from tensorflow.keras import layers\n",
    "\n",
    "embedding = layers.Embedding(input_dim=max_vocab_length, # set input shape\n",
    "                             output_dim=128, # set size of embedding vector\n",
    "                             embeddings_initializer=\"uniform\", # default, intialize randomly\n",
    "                             input_length=max_length, # how long is each input\n",
    "                             name=\"embedding_1\")"
   ]
  },
  {
   "cell_type": "code",
   "execution_count": 40,
   "metadata": {},
   "outputs": [
    {
     "name": "stdout",
     "output_type": "stream",
     "text": [
      "WARNING:tensorflow:From e:\\youtube\\venv\\Lib\\site-packages\\tensorflow_estimator\\python\\estimator\\util.py:74: The name tf.train.SessionRunHook is deprecated. Please use tf.estimator.SessionRunHook instead.\n",
      "\n",
      "WARNING:tensorflow:From e:\\youtube\\venv\\Lib\\site-packages\\tensorflow_hub\\native_module.py:92: The name tf.GraphKeys is deprecated. Please use tf.compat.v1.GraphKeys instead.\n",
      "\n",
      "WARNING:tensorflow:From e:\\youtube\\venv\\Lib\\site-packages\\tensorflow_hub\\saved_model_module.py:40: The name tf.saved_model.constants.LEGACY_INIT_OP_KEY is deprecated. Please use tf.compat.v1.saved_model.constants.LEGACY_INIT_OP_KEY instead.\n",
      "\n"
     ]
    }
   ],
   "source": [
    "import tensorflow_hub as hub\n",
    "from tensorflow.keras.callbacks import ModelCheckpoint\n",
    "from tensorflow.keras import layers"
   ]
  },
  {
   "cell_type": "code",
   "execution_count": 41,
   "metadata": {},
   "outputs": [
    {
     "name": "stdout",
     "output_type": "stream",
     "text": [
      "WARNING:tensorflow:From e:\\youtube\\venv\\Lib\\site-packages\\tensorflow_hub\\resolver.py:120: The name tf.gfile.MakeDirs is deprecated. Please use tf.io.gfile.makedirs instead.\n",
      "\n"
     ]
    },
    {
     "name": "stderr",
     "output_type": "stream",
     "text": [
      "WARNING:tensorflow:From e:\\youtube\\venv\\Lib\\site-packages\\tensorflow_hub\\resolver.py:120: The name tf.gfile.MakeDirs is deprecated. Please use tf.io.gfile.makedirs instead.\n",
      "\n"
     ]
    },
    {
     "name": "stdout",
     "output_type": "stream",
     "text": [
      "WARNING:tensorflow:From e:\\youtube\\venv\\Lib\\site-packages\\tensorflow_hub\\module_v2.py:120: The name tf.saved_model.load_v2 is deprecated. Please use tf.compat.v2.saved_model.load instead.\n",
      "\n"
     ]
    },
    {
     "name": "stderr",
     "output_type": "stream",
     "text": [
      "WARNING:tensorflow:From e:\\youtube\\venv\\Lib\\site-packages\\tensorflow_hub\\module_v2.py:120: The name tf.saved_model.load_v2 is deprecated. Please use tf.compat.v2.saved_model.load instead.\n",
      "\n"
     ]
    }
   ],
   "source": [
    "sentence_encoder_layer = hub.KerasLayer(\"https://tfhub.dev/google/universal-sentence-encoder/4\",\n",
    "                                        input_shape=[], # shape of inputs coming to our model\n",
    "                                        dtype=tf.string, # data type of inputs coming to the USE layer\n",
    "                                        trainable=False, # keep the pretrained weights \n",
    "                                        name=\"USE\")"
   ]
  },
  {
   "cell_type": "code",
   "execution_count": 42,
   "metadata": {},
   "outputs": [
    {
     "name": "stdout",
     "output_type": "stream",
     "text": [
      "Model: \"model_1_USE\"\n",
      "_________________________________________________________________\n",
      " Layer (type)                Output Shape              Param #   \n",
      "=================================================================\n",
      " USE (KerasLayer)            (None, 512)               256797824 \n",
      "                                                                 \n",
      " dense (Dense)               (None, 512)               262656    \n",
      "                                                                 \n",
      " dense_1 (Dense)             (None, 3)                 1539      \n",
      "                                                                 \n",
      "=================================================================\n",
      "Total params: 257062019 (980.61 MB)\n",
      "Trainable params: 264195 (1.01 MB)\n",
      "Non-trainable params: 256797824 (979.61 MB)\n",
      "_________________________________________________________________\n"
     ]
    }
   ],
   "source": [
    "# Create model using the Sequential API\n",
    "model_1 = tf.keras.Sequential([\n",
    "sentence_encoder_layer, # take in sentences and then encode them into an embedding\n",
    "layers.Dense(512, activation=\"relu\"),\n",
    "layers.Dense(num_classes, activation=\"softmax\")\n",
    "], name=\"model_1_USE\")\n",
    "\n",
    "# Compile model\n",
    "model_1.compile(loss=\"categorical_crossentropy\",\n",
    "              optimizer=tf.keras.optimizers.Adam(),\n",
    "              metrics=[\"accuracy\"])\n",
    "\n",
    "model_1.summary()"
   ]
  },
  {
   "cell_type": "code",
   "execution_count": 43,
   "metadata": {},
   "outputs": [],
   "source": [
    "from tensorflow.keras.callbacks import ModelCheckpoint\n",
    "\n",
    "# Define the checkpoint path\n",
    "checkpoint_path = \"best_model_USE\"\n",
    "\n",
    "# Create a ModelCheckpoint callback that saves the model's weights only when the validation accuracy improves\n",
    "cc = ModelCheckpoint(filepath=checkpoint_path,\n",
    "                                      monitor='val_accuracy',\n",
    "                                      mode='max',\n",
    "                                      save_best_only=True,\n",
    "                                      verbose=1)"
   ]
  },
  {
   "cell_type": "code",
   "execution_count": 44,
   "metadata": {},
   "outputs": [
    {
     "name": "stdout",
     "output_type": "stream",
     "text": [
      "Epoch 1/30\n",
      "849/854 [============================>.] - ETA: 0s - loss: 0.5950 - accuracy: 0.7533\n",
      "Epoch 1: val_accuracy improved from -inf to 0.78188, saving model to best_model_USE\n",
      "INFO:tensorflow:Assets written to: best_model_USE\\assets\n"
     ]
    },
    {
     "name": "stderr",
     "output_type": "stream",
     "text": [
      "INFO:tensorflow:Assets written to: best_model_USE\\assets\n"
     ]
    },
    {
     "name": "stdout",
     "output_type": "stream",
     "text": [
      "854/854 [==============================] - 27s 29ms/step - loss: 0.5947 - accuracy: 0.7533 - val_loss: 0.5258 - val_accuracy: 0.7819\n",
      "Epoch 2/30\n",
      "854/854 [==============================] - ETA: 0s - loss: 0.4705 - accuracy: 0.8150\n",
      "Epoch 2: val_accuracy improved from 0.78188 to 0.83912, saving model to best_model_USE\n",
      "INFO:tensorflow:Assets written to: best_model_USE\\assets\n"
     ]
    },
    {
     "name": "stderr",
     "output_type": "stream",
     "text": [
      "INFO:tensorflow:Assets written to: best_model_USE\\assets\n"
     ]
    },
    {
     "name": "stdout",
     "output_type": "stream",
     "text": [
      "854/854 [==============================] - 24s 28ms/step - loss: 0.4705 - accuracy: 0.8150 - val_loss: 0.4379 - val_accuracy: 0.8391\n",
      "Epoch 3/30\n",
      "847/854 [============================>.] - ETA: 0s - loss: 0.3573 - accuracy: 0.8711\n",
      "Epoch 3: val_accuracy improved from 0.83912 to 0.87147, saving model to best_model_USE\n",
      "INFO:tensorflow:Assets written to: best_model_USE\\assets\n"
     ]
    },
    {
     "name": "stderr",
     "output_type": "stream",
     "text": [
      "INFO:tensorflow:Assets written to: best_model_USE\\assets\n"
     ]
    },
    {
     "name": "stdout",
     "output_type": "stream",
     "text": [
      "854/854 [==============================] - 22s 26ms/step - loss: 0.3571 - accuracy: 0.8711 - val_loss: 0.3585 - val_accuracy: 0.8715\n",
      "Epoch 4/30\n",
      "852/854 [============================>.] - ETA: 0s - loss: 0.2606 - accuracy: 0.9134\n",
      "Epoch 4: val_accuracy improved from 0.87147 to 0.89489, saving model to best_model_USE\n",
      "INFO:tensorflow:Assets written to: best_model_USE\\assets\n"
     ]
    },
    {
     "name": "stderr",
     "output_type": "stream",
     "text": [
      "INFO:tensorflow:Assets written to: best_model_USE\\assets\n"
     ]
    },
    {
     "name": "stdout",
     "output_type": "stream",
     "text": [
      "854/854 [==============================] - 22s 25ms/step - loss: 0.2607 - accuracy: 0.9134 - val_loss: 0.3013 - val_accuracy: 0.8949\n",
      "Epoch 5/30\n",
      "850/854 [============================>.] - ETA: 0s - loss: 0.1874 - accuracy: 0.9436\n",
      "Epoch 5: val_accuracy improved from 0.89489 to 0.91407, saving model to best_model_USE\n",
      "INFO:tensorflow:Assets written to: best_model_USE\\assets\n"
     ]
    },
    {
     "name": "stderr",
     "output_type": "stream",
     "text": [
      "INFO:tensorflow:Assets written to: best_model_USE\\assets\n"
     ]
    },
    {
     "name": "stdout",
     "output_type": "stream",
     "text": [
      "854/854 [==============================] - 22s 26ms/step - loss: 0.1876 - accuracy: 0.9434 - val_loss: 0.2608 - val_accuracy: 0.9141\n",
      "Epoch 6/30\n",
      "853/854 [============================>.] - ETA: 0s - loss: 0.1340 - accuracy: 0.9624\n",
      "Epoch 6: val_accuracy improved from 0.91407 to 0.91919, saving model to best_model_USE\n",
      "INFO:tensorflow:Assets written to: best_model_USE\\assets\n"
     ]
    },
    {
     "name": "stderr",
     "output_type": "stream",
     "text": [
      "INFO:tensorflow:Assets written to: best_model_USE\\assets\n"
     ]
    },
    {
     "name": "stdout",
     "output_type": "stream",
     "text": [
      "854/854 [==============================] - 24s 29ms/step - loss: 0.1340 - accuracy: 0.9624 - val_loss: 0.2516 - val_accuracy: 0.9192\n",
      "Epoch 7/30\n",
      "850/854 [============================>.] - ETA: 0s - loss: 0.0942 - accuracy: 0.9762\n",
      "Epoch 7: val_accuracy improved from 0.91919 to 0.92871, saving model to best_model_USE\n",
      "INFO:tensorflow:Assets written to: best_model_USE\\assets\n"
     ]
    },
    {
     "name": "stderr",
     "output_type": "stream",
     "text": [
      "INFO:tensorflow:Assets written to: best_model_USE\\assets\n"
     ]
    },
    {
     "name": "stdout",
     "output_type": "stream",
     "text": [
      "854/854 [==============================] - 22s 26ms/step - loss: 0.0942 - accuracy: 0.9762 - val_loss: 0.2255 - val_accuracy: 0.9287\n",
      "Epoch 8/30\n",
      "854/854 [==============================] - ETA: 0s - loss: 0.0648 - accuracy: 0.9855\n",
      "Epoch 8: val_accuracy improved from 0.92871 to 0.93456, saving model to best_model_USE\n",
      "INFO:tensorflow:Assets written to: best_model_USE\\assets\n"
     ]
    },
    {
     "name": "stderr",
     "output_type": "stream",
     "text": [
      "INFO:tensorflow:Assets written to: best_model_USE\\assets\n"
     ]
    },
    {
     "name": "stdout",
     "output_type": "stream",
     "text": [
      "854/854 [==============================] - 22s 26ms/step - loss: 0.0648 - accuracy: 0.9855 - val_loss: 0.2154 - val_accuracy: 0.9346\n",
      "Epoch 9/30\n",
      "853/854 [============================>.] - ETA: 0s - loss: 0.0442 - accuracy: 0.9913\n",
      "Epoch 9: val_accuracy improved from 0.93456 to 0.93793, saving model to best_model_USE\n",
      "INFO:tensorflow:Assets written to: best_model_USE\\assets\n"
     ]
    },
    {
     "name": "stderr",
     "output_type": "stream",
     "text": [
      "INFO:tensorflow:Assets written to: best_model_USE\\assets\n"
     ]
    },
    {
     "name": "stdout",
     "output_type": "stream",
     "text": [
      "854/854 [==============================] - 23s 27ms/step - loss: 0.0442 - accuracy: 0.9913 - val_loss: 0.2245 - val_accuracy: 0.9379\n",
      "Epoch 10/30\n",
      "854/854 [==============================] - ETA: 0s - loss: 0.0301 - accuracy: 0.9954\n",
      "Epoch 10: val_accuracy did not improve from 0.93793\n",
      "854/854 [==============================] - 9s 11ms/step - loss: 0.0301 - accuracy: 0.9954 - val_loss: 0.2279 - val_accuracy: 0.9368\n",
      "Epoch 11/30\n",
      "850/854 [============================>.] - ETA: 0s - loss: 0.0225 - accuracy: 0.9967\n",
      "Epoch 11: val_accuracy improved from 0.93793 to 0.94071, saving model to best_model_USE\n",
      "INFO:tensorflow:Assets written to: best_model_USE\\assets\n"
     ]
    },
    {
     "name": "stderr",
     "output_type": "stream",
     "text": [
      "INFO:tensorflow:Assets written to: best_model_USE\\assets\n"
     ]
    },
    {
     "name": "stdout",
     "output_type": "stream",
     "text": [
      "854/854 [==============================] - 23s 27ms/step - loss: 0.0224 - accuracy: 0.9967 - val_loss: 0.2336 - val_accuracy: 0.9407\n",
      "Epoch 12/30\n",
      "853/854 [============================>.] - ETA: 0s - loss: 0.0181 - accuracy: 0.9975\n",
      "Epoch 12: val_accuracy did not improve from 0.94071\n",
      "854/854 [==============================] - 9s 10ms/step - loss: 0.0181 - accuracy: 0.9975 - val_loss: 0.2587 - val_accuracy: 0.9369\n",
      "Epoch 13/30\n",
      "850/854 [============================>.] - ETA: 0s - loss: 0.0134 - accuracy: 0.9985\n",
      "Epoch 13: val_accuracy did not improve from 0.94071\n",
      "854/854 [==============================] - 9s 10ms/step - loss: 0.0134 - accuracy: 0.9985 - val_loss: 0.2698 - val_accuracy: 0.9395\n",
      "Epoch 14/30\n",
      "848/854 [============================>.] - ETA: 0s - loss: 0.0114 - accuracy: 0.9987\n",
      "Epoch 14: val_accuracy did not improve from 0.94071\n",
      "854/854 [==============================] - 9s 10ms/step - loss: 0.0114 - accuracy: 0.9987 - val_loss: 0.2909 - val_accuracy: 0.9392\n",
      "Epoch 15/30\n",
      "852/854 [============================>.] - ETA: 0s - loss: 0.0111 - accuracy: 0.9986\n",
      "Epoch 15: val_accuracy improved from 0.94071 to 0.94174, saving model to best_model_USE\n",
      "INFO:tensorflow:Assets written to: best_model_USE\\assets\n"
     ]
    },
    {
     "name": "stderr",
     "output_type": "stream",
     "text": [
      "INFO:tensorflow:Assets written to: best_model_USE\\assets\n"
     ]
    },
    {
     "name": "stdout",
     "output_type": "stream",
     "text": [
      "854/854 [==============================] - 22s 26ms/step - loss: 0.0112 - accuracy: 0.9986 - val_loss: 0.2648 - val_accuracy: 0.9417\n",
      "Epoch 16/30\n",
      "849/854 [============================>.] - ETA: 0s - loss: 0.0097 - accuracy: 0.9986\n",
      "Epoch 16: val_accuracy did not improve from 0.94174\n",
      "854/854 [==============================] - 10s 12ms/step - loss: 0.0097 - accuracy: 0.9986 - val_loss: 0.2904 - val_accuracy: 0.9397\n",
      "Epoch 17/30\n",
      "849/854 [============================>.] - ETA: 0s - loss: 0.0076 - accuracy: 0.9990\n",
      "Epoch 17: val_accuracy did not improve from 0.94174\n",
      "854/854 [==============================] - 10s 11ms/step - loss: 0.0076 - accuracy: 0.9990 - val_loss: 0.2947 - val_accuracy: 0.9404\n",
      "Epoch 18/30\n",
      "854/854 [==============================] - ETA: 0s - loss: 0.0062 - accuracy: 0.9992\n",
      "Epoch 18: val_accuracy did not improve from 0.94174\n",
      "854/854 [==============================] - 9s 11ms/step - loss: 0.0062 - accuracy: 0.9992 - val_loss: 0.3124 - val_accuracy: 0.9403\n",
      "Epoch 19/30\n",
      "847/854 [============================>.] - ETA: 0s - loss: 0.0161 - accuracy: 0.9968\n",
      "Epoch 19: val_accuracy did not improve from 0.94174\n",
      "854/854 [==============================] - 10s 11ms/step - loss: 0.0160 - accuracy: 0.9968 - val_loss: 0.3211 - val_accuracy: 0.9391\n",
      "Epoch 20/30\n",
      "854/854 [==============================] - ETA: 0s - loss: 0.0053 - accuracy: 0.9995\n",
      "Epoch 20: val_accuracy did not improve from 0.94174\n",
      "854/854 [==============================] - 9s 10ms/step - loss: 0.0053 - accuracy: 0.9995 - val_loss: 0.3107 - val_accuracy: 0.9413\n",
      "Epoch 21/30\n",
      "853/854 [============================>.] - ETA: 0s - loss: 0.0065 - accuracy: 0.9994\n",
      "Epoch 21: val_accuracy did not improve from 0.94174\n",
      "854/854 [==============================] - 9s 10ms/step - loss: 0.0065 - accuracy: 0.9994 - val_loss: 0.3463 - val_accuracy: 0.9362\n",
      "Epoch 22/30\n",
      "848/854 [============================>.] - ETA: 0s - loss: 0.0104 - accuracy: 0.9980\n",
      "Epoch 22: val_accuracy improved from 0.94174 to 0.94525, saving model to best_model_USE\n",
      "INFO:tensorflow:Assets written to: best_model_USE\\assets\n"
     ]
    },
    {
     "name": "stderr",
     "output_type": "stream",
     "text": [
      "INFO:tensorflow:Assets written to: best_model_USE\\assets\n"
     ]
    },
    {
     "name": "stdout",
     "output_type": "stream",
     "text": [
      "854/854 [==============================] - 26s 31ms/step - loss: 0.0104 - accuracy: 0.9981 - val_loss: 0.3113 - val_accuracy: 0.9452\n",
      "Epoch 23/30\n",
      "851/854 [============================>.] - ETA: 0s - loss: 0.0075 - accuracy: 0.9991\n",
      "Epoch 23: val_accuracy did not improve from 0.94525\n",
      "854/854 [==============================] - 9s 10ms/step - loss: 0.0074 - accuracy: 0.9991 - val_loss: 0.3090 - val_accuracy: 0.9432\n",
      "Epoch 24/30\n",
      "854/854 [==============================] - ETA: 0s - loss: 0.0054 - accuracy: 0.9992\n",
      "Epoch 24: val_accuracy did not improve from 0.94525\n",
      "854/854 [==============================] - 9s 10ms/step - loss: 0.0054 - accuracy: 0.9992 - val_loss: 0.3290 - val_accuracy: 0.9419\n",
      "Epoch 25/30\n",
      "852/854 [============================>.] - ETA: 0s - loss: 0.0129 - accuracy: 0.9967\n",
      "Epoch 25: val_accuracy did not improve from 0.94525\n",
      "854/854 [==============================] - 9s 10ms/step - loss: 0.0130 - accuracy: 0.9967 - val_loss: 0.3810 - val_accuracy: 0.9356\n",
      "Epoch 26/30\n",
      "853/854 [============================>.] - ETA: 0s - loss: 0.0076 - accuracy: 0.9988\n",
      "Epoch 26: val_accuracy did not improve from 0.94525\n",
      "854/854 [==============================] - 9s 10ms/step - loss: 0.0076 - accuracy: 0.9988 - val_loss: 0.3363 - val_accuracy: 0.9428\n",
      "Epoch 27/30\n",
      "848/854 [============================>.] - ETA: 0s - loss: 0.0042 - accuracy: 0.9996\n",
      "Epoch 27: val_accuracy did not improve from 0.94525\n",
      "854/854 [==============================] - 9s 10ms/step - loss: 0.0048 - accuracy: 0.9995 - val_loss: 0.3757 - val_accuracy: 0.9394\n",
      "Epoch 28/30\n",
      "853/854 [============================>.] - ETA: 0s - loss: 0.0037 - accuracy: 0.9996\n",
      "Epoch 28: val_accuracy did not improve from 0.94525\n",
      "854/854 [==============================] - 9s 10ms/step - loss: 0.0037 - accuracy: 0.9996 - val_loss: 0.3681 - val_accuracy: 0.9394\n",
      "Epoch 29/30\n",
      "851/854 [============================>.] - ETA: 0s - loss: 0.0066 - accuracy: 0.9992\n",
      "Epoch 29: val_accuracy did not improve from 0.94525\n",
      "854/854 [==============================] - 9s 10ms/step - loss: 0.0066 - accuracy: 0.9992 - val_loss: 0.3329 - val_accuracy: 0.9448\n",
      "Epoch 30/30\n",
      "852/854 [============================>.] - ETA: 0s - loss: 0.0095 - accuracy: 0.9982\n",
      "Epoch 30: val_accuracy did not improve from 0.94525\n",
      "854/854 [==============================] - 9s 10ms/step - loss: 0.0095 - accuracy: 0.9982 - val_loss: 0.3775 - val_accuracy: 0.9392\n"
     ]
    }
   ],
   "source": [
    "# Train a classifier on top of pretrained embeddings\n",
    "model_1_history = model_1.fit(X_train,\n",
    "                              y_train,\n",
    "                              epochs=30,\n",
    "                              validation_data=(X_valid, y_valid),\n",
    "                              callbacks=[cc])"
   ]
  },
  {
   "cell_type": "code",
   "execution_count": 45,
   "metadata": {},
   "outputs": [],
   "source": [
    "from tensorflow.keras.models import load_model\n",
    "\n",
    "# Load the entire model\n",
    "model_1 = load_model(checkpoint_path)"
   ]
  },
  {
   "cell_type": "code",
   "execution_count": 46,
   "metadata": {},
   "outputs": [
    {
     "name": "stdout",
     "output_type": "stream",
     "text": [
      "214/214 [==============================] - 2s 8ms/step\n"
     ]
    },
    {
     "data": {
      "text/plain": [
       "array([[9.9981672e-01, 1.6497842e-04, 1.8314244e-05],\n",
       "       [9.9848098e-01, 8.1202561e-05, 1.4378256e-03],\n",
       "       [4.1962080e-06, 9.9884218e-01, 1.1536375e-03],\n",
       "       [4.3414395e-05, 9.9970657e-01, 2.4996631e-04],\n",
       "       [1.6636112e-09, 9.9999642e-01, 3.5461296e-06],\n",
       "       [9.9998891e-01, 1.1137562e-05, 4.6485679e-10],\n",
       "       [9.9998450e-01, 1.5486930e-05, 6.3479022e-09],\n",
       "       [7.7339723e-12, 4.6442206e-06, 9.9999535e-01],\n",
       "       [1.1259160e-07, 9.9928838e-01, 7.1152527e-04],\n",
       "       [1.9753577e-04, 9.9980241e-01, 1.4577978e-08]], dtype=float32)"
      ]
     },
     "execution_count": 46,
     "metadata": {},
     "output_type": "execute_result"
    }
   ],
   "source": [
    "# Make predictions with USE TF Hub model\n",
    "model_1_pred_probs = model_1.predict(X_valid)\n",
    "model_1_pred_probs[:10]"
   ]
  },
  {
   "cell_type": "code",
   "execution_count": 47,
   "metadata": {},
   "outputs": [
    {
     "data": {
      "text/plain": [
       "<tf.Tensor: shape=(10,), dtype=int64, numpy=array([0, 0, 1, 1, 1, 0, 0, 2, 1, 1], dtype=int64)>"
      ]
     },
     "execution_count": 47,
     "metadata": {},
     "output_type": "execute_result"
    }
   ],
   "source": [
    "# Convert prediction probabilities to labels\n",
    "model_1_preds = tf.argmax(model_1_pred_probs, axis=1)\n",
    "model_1_preds[:10]"
   ]
  },
  {
   "cell_type": "code",
   "execution_count": 48,
   "metadata": {},
   "outputs": [],
   "source": [
    "# Function to evaluate: accuracy, precision, recall, f1-score\n",
    "from sklearn.metrics import accuracy_score, precision_recall_fscore_support\n",
    "\n",
    "def calculate_results(y_true, y_pred):\n",
    "  # Calculate model accuracy\n",
    "  model_accuracy = accuracy_score(y_true, y_pred) * 100\n",
    "  # Calculate model precision, recall and f1 score using \"weighted\" average\n",
    "  model_precision, model_recall, model_f1, _ = precision_recall_fscore_support(y_true, y_pred, average=\"weighted\")\n",
    "  model_results = {\"accuracy\": model_accuracy,\n",
    "                  \"precision\": model_precision,\n",
    "                  \"recall\": model_recall,\n",
    "                  \"f1\": model_f1}\n",
    "  return model_results"
   ]
  },
  {
   "cell_type": "code",
   "execution_count": 49,
   "metadata": {},
   "outputs": [
    {
     "data": {
      "text/plain": [
       "{'accuracy': 94.52495974235104,\n",
       " 'precision': 0.9463202390511611,\n",
       " 'recall': 0.9452495974235104,\n",
       " 'f1': 0.9448430880827389}"
      ]
     },
     "execution_count": 49,
     "metadata": {},
     "output_type": "execute_result"
    }
   ],
   "source": [
    "# Calculate model performance metrics\n",
    "model_1_results = calculate_results(y_valid_le, model_1_preds)\n",
    "model_1_results"
   ]
  },
  {
   "cell_type": "code",
   "execution_count": 50,
   "metadata": {},
   "outputs": [],
   "source": [
    "import itertools\n",
    "from sklearn.metrics import confusion_matrix\n",
    "\n",
    "# Our function needs a different name to sklearn's plot_confusion_matrix\n",
    "def make_confusion_matrix(y_true, y_pred, classes=None, figsize=(10, 10), text_size=15):\n",
    "  # Create the confustion matrix\n",
    "  cm = confusion_matrix(y_true, y_pred)\n",
    "  cm_norm = cm.astype(\"float\") / cm.sum(axis=1)[:, np.newaxis] # normalize it\n",
    "  n_classes = cm.shape[0] # find the number of classes we're dealing with\n",
    "\n",
    "  # Plot the figure and make it pretty\n",
    "  fig, ax = plt.subplots(figsize=figsize)\n",
    "  cax = ax.matshow(cm, cmap=plt.cm.Blues) # colors will represent how 'correct' a class is, darker == better\n",
    "  fig.colorbar(cax)\n",
    "\n",
    "  # Are there a list of classes?\n",
    "  if classes:\n",
    "    labels = classes\n",
    "  else:\n",
    "    labels = np.arange(cm.shape[0])\n",
    "\n",
    "  # Label the axes\n",
    "  ax.set(title=\"Confusion Matrix\",\n",
    "         xlabel=\"Predicted label\",\n",
    "         ylabel=\"True label\",\n",
    "         xticks=np.arange(n_classes), # create enough axis slots for each class\n",
    "         yticks=np.arange(n_classes),\n",
    "         xticklabels=labels, # axes will labeled with class names (if they exist) or ints\n",
    "         yticklabels=labels)\n",
    "\n",
    "  # Make x-axis labels appear on bottom\n",
    "  ax.xaxis.set_label_position(\"bottom\")\n",
    "  ax.xaxis.tick_bottom()\n",
    "\n",
    "  # Set the threshold for different colors\n",
    "  threshold = (cm.max() + cm.min()) / 2.\n",
    "\n",
    "  # Plot the text on each cell\n",
    "  for i, j in itertools.product(range(cm.shape[0]), range(cm.shape[1])):\n",
    "    plt.text(j, i, f\"{cm[i, j]} ({cm_norm[i, j]*100:.1f}%)\",\n",
    "             horizontalalignment=\"center\",\n",
    "             color=\"white\" if cm[i, j] > threshold else \"black\",\n",
    "             size=text_size)"
   ]
  },
  {
   "cell_type": "code",
   "execution_count": 51,
   "metadata": {},
   "outputs": [
    {
     "data": {
      "text/plain": [
       "['Negative', 'Neutral', 'Positive']"
      ]
     },
     "execution_count": 51,
     "metadata": {},
     "output_type": "execute_result"
    }
   ],
   "source": [
    "class_names=dr.Sentiment.tolist()\n",
    "class_names"
   ]
  },
  {
   "cell_type": "code",
   "execution_count": 52,
   "metadata": {},
   "outputs": [
    {
     "data": {
      "image/png": "[encoded data removed]",
      "text/plain": [
       "<Figure size 1500x1500 with 2 Axes>"
      ]
     },
     "metadata": {},
     "output_type": "display_data"
    }
   ],
   "source": [
    "make_confusion_matrix(y_true=y_valid_le,\n",
    "                      y_pred=model_1_preds,\n",
    "                      classes=class_names,\n",
    "                      figsize=(15, 15),\n",
    "                      text_size=15)"
   ]
  },
  {
   "cell_type": "code",
   "execution_count": 53,
   "metadata": {},
   "outputs": [
    {
     "name": "stdout",
     "output_type": "stream",
     "text": [
      "              precision    recall  f1-score   support\n",
      "\n",
      "         0.0       0.96      0.99      0.98      2235\n",
      "         1.0       0.91      0.96      0.93      2332\n",
      "         2.0       0.97      0.88      0.92      2264\n",
      "\n",
      "    accuracy                           0.95      6831\n",
      "   macro avg       0.95      0.95      0.95      6831\n",
      "weighted avg       0.95      0.95      0.94      6831\n",
      "\n"
     ]
    }
   ],
   "source": [
    "from sklearn.metrics import classification_report\n",
    "print(classification_report(y_valid_le, model_1_preds))"
   ]
  },
  {
   "cell_type": "code",
   "execution_count": 54,
   "metadata": {},
   "outputs": [],
   "source": [
    "from colorama import Fore, Style\n",
    "\n",
    "def random_predictions(model, X_valid, y_valid, num_samples=5, class_names=None):\n",
    "    # Check if it's binary or multi-class classification\n",
    "    num_classes = y_valid.shape[1] if len(y_valid.shape) > 1 else 2\n",
    "    is_binary_classification = num_classes == 2\n",
    "\n",
    "    # Getting indices of the random samples\n",
    "    random_indices = np.random.choice(np.arange(len(X_valid)), size=num_samples, replace=False)\n",
    "\n",
    "    # Selecting the random samples\n",
    "    random_X_samples = X_valid[random_indices]\n",
    "    random_y_samples = y_valid[random_indices]\n",
    "\n",
    "    # Making predictions on the random samples\n",
    "    y_pred_probs = model.predict(random_X_samples)\n",
    "\n",
    "    if is_binary_classification:\n",
    "        y_pred = np.squeeze(np.round(y_pred_probs).astype(int))\n",
    "    else:\n",
    "        y_pred = np.argmax(y_pred_probs, axis=1)\n",
    "\n",
    "    # Print the actual and predicted labels\n",
    "    for i in range(num_samples):\n",
    "        text = random_X_samples[i]\n",
    "        true_label = np.argmax(random_y_samples[i]) if not is_binary_classification else np.squeeze(random_y_samples[i])\n",
    "        predicted_label = y_pred[i]\n",
    "\n",
    "        # If class names are provided, use them for printing\n",
    "        if class_names is not None:\n",
    "            true_label_name = class_names[true_label]\n",
    "            predicted_label_name = class_names[predicted_label]\n",
    "        else:\n",
    "            true_label_name = true_label\n",
    "            predicted_label_name = predicted_label\n",
    "\n",
    "        # Determine the color of the text (green for correct, red for incorrect)\n",
    "        text_color = Fore.GREEN if true_label == predicted_label else Fore.RED\n",
    "\n",
    "        print(f\"\\nSample {i + 1}:\")\n",
    "        print(f\"Text: {text}\")\n",
    "        print(text_color + f\"True: {true_label_name} \\n Predicted: {predicted_label_name}\" + Style.RESET_ALL)"
   ]
  },
  {
   "cell_type": "code",
   "execution_count": 55,
   "metadata": {},
   "outputs": [
    {
     "data": {
      "text/plain": [
       "['Negative', 'Neutral', 'Positive']"
      ]
     },
     "execution_count": 55,
     "metadata": {},
     "output_type": "execute_result"
    }
   ],
   "source": [
    "class_names"
   ]
  },
  {
   "cell_type": "code",
   "execution_count": 56,
   "metadata": {},
   "outputs": [
    {
     "name": "stdout",
     "output_type": "stream",
     "text": [
      "1/1 [==============================] - 0s 23ms/step\n",
      "\n",
      "Sample 1:\n",
      "Text: interest rates go up people spend less businesses and peoples loan costs go up the sad thing about inflation is that even when you get it under control the damage is done and those prices never go back down im putting all of my profits into silver gold bitcoin ethereum and food\n",
      "\u001b[32mTrue: Negative \n",
      " Predicted: Negative\u001b[0m\n",
      "\n",
      "Sample 2:\n",
      "Text: 642 anxiety to the point where i was considering not going to this meetup even when i was sitting in the parking lot of the venue i felt that hard good job making it happen\n",
      "\u001b[32mTrue: Negative \n",
      " Predicted: Negative\u001b[0m\n",
      "\n",
      "Sample 3:\n",
      "Text: im reading a book called existentialists and mystics writings on philosophy and literature by iris murdoch edited by peter conradi which has in it what purports to be a transcript of this interview with bryan magee but the sentences are different many words are added or deleted or changed its almost as if someone decided that the actual interview wasnt polished or eloquent enough and the editors made changes or is it possible that iris murdoch got the transcript and modified to her own writing standards does anyone out there know\n",
      "\u001b[32mTrue: Neutral \n",
      " Predicted: Neutral\u001b[0m\n",
      "\n",
      "Sample 4:\n",
      "Text: what parts of the standard american history myth did you believe john adams and thomas jefferson were founding fathers but they didnt attend the constitutional convention my bad\n",
      "\u001b[32mTrue: Negative \n",
      " Predicted: Negative\u001b[0m\n",
      "\n",
      "Sample 5:\n",
      "Text: but her emails coming to bite republicans in the butt\n",
      "\u001b[32mTrue: Negative \n",
      " Predicted: Negative\u001b[0m\n",
      "\n",
      "Sample 6:\n",
      "Text: ja wanie jestem na wakacjach w grach od dzisiaj do niedzieli\n",
      "\u001b[32mTrue: Neutral \n",
      " Predicted: Neutral\u001b[0m\n",
      "\n",
      "Sample 7:\n",
      "Text: for me as a foreigner i see pence as the personification of the smooth talking us politician and believe me i dont mean this as a compliment\n",
      "\u001b[32mTrue: Neutral \n",
      " Predicted: Neutral\u001b[0m\n",
      "\n",
      "Sample 8:\n",
      "Text: awesome video mr beast rules\n",
      "\u001b[32mTrue: Positive \n",
      " Predicted: Positive\u001b[0m\n",
      "\n",
      "Sample 9:\n",
      "Text: we are teaching our children the wrong things in school we are creating a societal system where each section is dependent upon the other sections this means when one section fails then the rest also fail we need to teach our children to be independent instead we teach children how to be obedient workers to give meaning to someones life teach them how to grow their own food build their own house repair their own car cook their own meals eat to stay healthy and most importantly how to meditate and pray this gives life meaning\n",
      "\u001b[32mTrue: Negative \n",
      " Predicted: Negative\u001b[0m\n",
      "\n",
      "Sample 10:\n",
      "Text: the roman senate awarded the honorific title of augustus to octavian in 27 bc after he settled accounts with antony and cleopatra\n",
      "\u001b[32mTrue: Neutral \n",
      " Predicted: Neutral\u001b[0m\n",
      "\n",
      "Sample 11:\n",
      "Text: its quite obvious to me that sony fears microsoft thats why they keep blocking games from going to xbox what the heck is wrong with a game coming out to all consoles so that everyone can play grow up sony and mind your own business model and not what someone else is doing\n",
      "\u001b[32mTrue: Negative \n",
      " Predicted: Negative\u001b[0m\n",
      "\n",
      "Sample 12:\n",
      "Text: 35100 magnus sacs queen\n",
      "\u001b[32mTrue: Neutral \n",
      " Predicted: Neutral\u001b[0m\n",
      "\n",
      "Sample 13:\n",
      "Text: id say sleep and exercise and diet are probably the most important things for concentration yeah its 230am for me here\n",
      "\u001b[32mTrue: Neutral \n",
      " Predicted: Neutral\u001b[0m\n",
      "\n",
      "Sample 14:\n",
      "Text: if my neighbor robs a bank and a few weeks later i decide to rob the same bank it makes no difference i would have committed a serious crime regardless and exactly how did agents sneak in and plant 12 plus boxes of evidence in advance of the raid in supposedly secure locked rooms and safes with video security and guards and secret service on the property omg ridiculous\n",
      "\u001b[32mTrue: Negative \n",
      " Predicted: Negative\u001b[0m\n",
      "\n",
      "Sample 15:\n",
      "Text: my underestanding is that the wife wasnt going to survive either way so it was a matter of letting the gods take them both or actively killing his wife to save the baby an absolutely terribly choice especially given how she would have to go through it weve seen some horrible stuff but her death scene was up there with one of ramsays scenes i also think given recent political events in the us it was very timely without being an overt political statement like we might see from marvel not to mention it was the pivotal moment that sets the stage for everything to come also i hear this series will be far more morally grey than game of thrones ever was daemon gives me ramsay or joffrey vibes but hell be much more complex and less villainous while he seems to operate on selfmotivation his violence isnt wanton or random like joffrey or ramsay so i picture him being closer to a cerseijaime style character but if anything he absolutely gives peak targaryen vibes and matt smith gives a stellar performance im really excited to see corlys valaryon and rhaenys targaryen a shame we havent seen much of rhaenys but i picture her having some of cerseis chip on her shoulder for being snubbed the crown i hate to touch on this but i know corlyss racial change was of concern and i originally had slight concern myself not because some omg woke bs but because of the velaryons and the targaryens are supposed to be basically siblings in relation so i prefer representation coming from a new source rather than an existing one but if you think about it the light complexion of the targaryens is much more of an oddity given their geographic origins furthermore valyria was awfully close to the summer isles and sothoryos so to me corlys is more what i would envision the original valyrians would look like so it doesnt bother me in the slightest especially after seeing him on screen he seems like a great character already and i think and hope hes up there with davos otto hightower gives strong tywin and littlefinger vibes prioritizing family image and political opportunity above all he does seem like a type of manofhonor but more in the sense of being a strict rulefollower stuck in the old ways and then obviously viserys is the ned stark of the series i love seeing that name reclaimed and while the timing was bad and perhaps more of necessity im glad he apologized to rhaenerys and shows a lot of faith in her i especially like that when brought up with the council the first response was theres never been a queen but one of the others was quick to chime in with only out of precedent and tradition its nice to see them consider it rather than the whole group quickly dismissing it has hah but shes a woman maybe rhaenys serves as a reminder of what they could have had also while the age difference between him and alicent is a little insane and i dont like otto pimping out his daughter like that i do think they would legitimately treat each other well probably erring on the side of viserys being distant with her because he misses his wife and is traumatized by her passing and the part he played in it most of all the show felt like we jumped straight into s3 or s4 of game of thrones\n",
      "\u001b[32mTrue: Negative \n",
      " Predicted: Negative\u001b[0m\n",
      "\n",
      "Sample 16:\n",
      "Text: when someone tells a lie deep down they know this is wrong they have no compassion\n",
      "\u001b[32mTrue: Negative \n",
      " Predicted: Negative\u001b[0m\n",
      "\n",
      "Sample 17:\n",
      "Text: oi sccoby\n",
      "\u001b[32mTrue: Neutral \n",
      " Predicted: Neutral\u001b[0m\n",
      "\n",
      "Sample 18:\n",
      "Text: ill be so glad when the whole trump drama is over 5 years of a bad play is too much for any audience member to endure\n",
      "\u001b[32mTrue: Negative \n",
      " Predicted: Negative\u001b[0m\n",
      "\n",
      "Sample 19:\n",
      "Text: hes not younger this was 2021 hes was 27 at the time same as stranger and fly away this is an original composed version of ave maria by igor krutoy per dimashs request it does share some similarities with the caccini composition and might have been the inspiration some have posited that because igor is jewish and dimash is muslim they may have opted to forego the lyrics for this reason which would make sense again i dont believe that has been confirmed by either one\n",
      "\u001b[32mTrue: Neutral \n",
      " Predicted: Neutral\u001b[0m\n",
      "\n",
      "Sample 20:\n",
      "Text: timestamps 000 i was never there x the hills 011 swang remix 022 im always on your left x on that time 032 foot fungus 040 nda 104 under the influence 123 touch down 2 cause hell 137 streets silhouette remix 157 you look lonely 208 no type 226 love me 232 gucci flip flops 241 mr steal your girl 252 wannabe 314 renegade 345 lets link 356 ice ice baby 404 not one of dem 412 no guidance 429 sweater weather 454 rules\n",
      "\u001b[32mTrue: Neutral \n",
      " Predicted: Neutral\u001b[0m\n"
     ]
    }
   ],
   "source": [
    "random_predictions(model_1,\n",
    "                   X_valid,\n",
    "                   y_valid,\n",
    "                   num_samples=20,\n",
    "                   class_names=class_names)"
   ]
  }
 ],
 "metadata": {
  "kernelspec": {
   "display_name": "venv",
   "language": "python",
   "name": "python3"
  },
  "language_info": {
   "codemirror_mode": {
    "name": "ipython",
    "version": 3
   },
   "file_extension": ".py",
   "mimetype": "text/x-python",
   "name": "python",
   "nbconvert_exporter": "python",
   "pygments_lexer": "ipython3",
   "version": "3.11.5"
  }
 },
 "nbformat": 4,
 "nbformat_minor": 2
}
